{
 "cells": [
  {
   "cell_type": "code",
   "execution_count": 1,
   "metadata": {},
   "outputs": [
    {
     "name": "stderr",
     "output_type": "stream",
     "text": [
      "C:\\Users\\lenovo\\Anaconda3\\lib\\site-packages\\sklearn\\cross_validation.py:41: DeprecationWarning: This module was deprecated in version 0.18 in favor of the model_selection module into which all the refactored classes and functions are moved. Also note that the interface of the new CV iterators are different from that of this module. This module will be removed in 0.20.\n",
      "  \"This module will be removed in 0.20.\", DeprecationWarning)\n"
     ]
    }
   ],
   "source": [
    "import pandas as pd\n",
    "import numpy as np\n",
    "import matplotlib.pyplot as plt\n",
    "import seaborn as sns\n",
    "from sklearn import linear_model, metrics\n",
    "from sklearn.cross_validation import train_test_split\n",
    "%matplotlib inline"
   ]
  },
  {
   "cell_type": "code",
   "execution_count": 2,
   "metadata": {
    "collapsed": true
   },
   "outputs": [],
   "source": [
    "raw_file_train=pd.read_csv('training.csv')"
   ]
  },
  {
   "cell_type": "code",
   "execution_count": 3,
   "metadata": {
    "collapsed": true
   },
   "outputs": [],
   "source": [
    "raw_file_test=pd.read_csv('test.csv')"
   ]
  },
  {
   "cell_type": "code",
   "execution_count": 4,
   "metadata": {
    "collapsed": true,
    "scrolled": true
   },
   "outputs": [],
   "source": [
    "raw_all_data=pd.concat((raw_file_train.loc[:,'Student ID':'BS'],raw_file_test.loc[:,'Student ID':'BS']))"
   ]
  },
  {
   "cell_type": "code",
   "execution_count": 5,
   "metadata": {
    "collapsed": true
   },
   "outputs": [],
   "source": [
    "for i in raw_file_train.index:\n",
    "    if raw_file_train.loc[i,'WS'] == 'J':\n",
    "        raw_file_train.loc[i,'WS'] = 1\n",
    "    if raw_file_train.loc[i,'WS'] == 'K':\n",
    "        raw_file_train.loc[i,'WS'] = 2\n",
    "    if raw_file_train.loc[i,'WS'] == 'L':\n",
    "        raw_file_train.loc[i,'WS'] = 3\n",
    "    if raw_file_train.loc[i,'WS'] == 'M':\n",
    "        raw_file_train.loc[i,'WS'] = 4\n",
    "    if raw_file_train.loc[i,'WS'] == 'N':\n",
    "        raw_file_train.loc[i,'WS'] = 5\n",
    "    if raw_file_train.loc[i,'WS'] == 'O':\n",
    "        raw_file_train.loc[i,'WS'] = 6\n",
    "    if raw_file_train.loc[i,'WS'] == 'P':\n",
    "        raw_file_train.loc[i,'WS'] = 7\n",
    "    if raw_file_train.loc[i,'WS'] == 'Q':\n",
    "        raw_file_train.loc[i,'WS'] = 8\n",
    "    if raw_file_train.loc[i,'WS'] == 'R':\n",
    "        raw_file_train.loc[i,'WS'] = 9\n",
    "    if raw_file_train.loc[i,'WS'] == 'S':\n",
    "        raw_file_train.loc[i,'WS'] = 10\n",
    "    if raw_file_train.loc[i,'WS'] == 'T':\n",
    "        raw_file_train.loc[i,'WS'] = 11"
   ]
  },
  {
   "cell_type": "code",
   "execution_count": 6,
   "metadata": {
    "collapsed": true
   },
   "outputs": [],
   "source": [
    "for i in raw_file_test.index:\n",
    "    if raw_file_test.loc[i,'WS'] == 'J':\n",
    "        raw_file_test.loc[i,'WS'] = 1\n",
    "    if raw_file_test.loc[i,'WS'] == 'K':\n",
    "        raw_file_test.loc[i,'WS'] = 2\n",
    "    if raw_file_test.loc[i,'WS'] == 'L':\n",
    "        raw_file_test.loc[i,'WS'] = 3\n",
    "    if raw_file_test.loc[i,'WS'] == 'M':\n",
    "        raw_file_test.loc[i,'WS'] = 4\n",
    "    if raw_file_test.loc[i,'WS'] == 'N':\n",
    "        raw_file_test.loc[i,'WS'] = 5\n",
    "    if raw_file_test.loc[i,'WS'] == 'O':\n",
    "        raw_file_test.loc[i,'WS'] = 6\n",
    "    if raw_file_test.loc[i,'WS'] == 'P':\n",
    "        raw_file_test.loc[i,'WS'] = 7\n",
    "    if raw_file_test.loc[i,'WS'] == 'Q':\n",
    "        raw_file_test.loc[i,'WS'] = 8\n",
    "    if raw_file_test.loc[i,'WS'] == 'R':\n",
    "        raw_file_test.loc[i,'WS'] = 9\n",
    "    if raw_file_test.loc[i,'WS'] == 'S':\n",
    "        raw_file_test.loc[i,'WS'] = 10\n",
    "    if raw_file_test.loc[i,'WS'] == 'T':\n",
    "        raw_file_test.loc[i,'WS'] = 11"
   ]
  },
  {
   "cell_type": "code",
   "execution_count": 7,
   "metadata": {
    "collapsed": true
   },
   "outputs": [],
   "source": [
    "processed_train=raw_file_train.drop(['MCAT Total'], axis=1)\n",
    "processed_test=raw_file_test.drop(['MCAT Total','Probablitiy of acceptance'], axis=1)"
   ]
  },
  {
   "cell_type": "code",
   "execution_count": 8,
   "metadata": {},
   "outputs": [],
   "source": [
    "for i in processed_train.index:\n",
    "    if processed_train.loc[i,'Answer key'] == 3:\n",
    "        processed_train.loc[i,'Answer key'] = 0"
   ]
  },
  {
   "cell_type": "code",
   "execution_count": 9,
   "metadata": {
    "scrolled": true
   },
   "outputs": [],
   "source": [
    "processed_train[\"Undergrad Major Classification\"]=\"\""
   ]
  },
  {
   "cell_type": "code",
   "execution_count": 10,
   "metadata": {
    "collapsed": true
   },
   "outputs": [],
   "source": [
    "major_categories=raw_all_data['Undergrad Major'].unique()\n",
    "major_categories.sort()"
   ]
  },
  {
   "cell_type": "code",
   "execution_count": 11,
   "metadata": {},
   "outputs": [
    {
     "data": {
      "text/plain": [
       "array(['African American Studies|Psychology',\n",
       "       'African and African-American Studies', 'Anthropology',\n",
       "       'Art History', 'Asian and African Languages and Literature|Biology',\n",
       "       'Asian and African Literature and Languages|Biology',\n",
       "       'Biological Anthropology & Anatomy|Biology',\n",
       "       'Biological Anthropology and Anatomy',\n",
       "       'Biological Anthropology and Anatomy|Biology', 'Biology',\n",
       "       'Biology (Cell and Molecular)', 'Biology (Genetics Concentration)',\n",
       "       'Biology (Neuroscience Concentration)',\n",
       "       'Biology with a Concentration in Pharmacology',\n",
       "       'Biology, Concentration in Cell & Molecular Biology',\n",
       "       'Biology, Concentration in Evolutionary Biology',\n",
       "       'Biology, with a concentration in Pharmacology|Psychology, with a concentration in Neuroscience',\n",
       "       'Biology; Neuroscience concentration', 'Biology|Biology',\n",
       "       'Biology|Biomedical Engineering', 'Biology|Chemistry',\n",
       "       'Biology|Computer Science', 'Biology|History', 'Biology|Music',\n",
       "       'Biology|No Major', 'Biology|Philosophy', 'Biology|Psychology',\n",
       "       'Biology|Psychology: Neurosciences Concentration',\n",
       "       'Biology|Religion', 'Biology|Sociology',\n",
       "       'Biology|Spanish and Latin American Studies|No Major',\n",
       "       \"Biology|Women's Studies\", 'Biomedical Engineering',\n",
       "       'Biomedical Engineering|Electrical Engineering',\n",
       "       'Biomedical Engineering|Electrical and Computer Engineering',\n",
       "       'Biomedical Engineering|Mathematics|Physics',\n",
       "       'Biomedical Engineering|Mechanical Engineering', 'Chemistry',\n",
       "       'Chemistry w/ concentration in Pharmacology',\n",
       "       'Chemistry, with a biochemistry concentration',\n",
       "       'Chemistry- Pharmacology Concentration', 'Chemistry|French',\n",
       "       'Chemistry|History', 'Classical Civilizations', 'Classics',\n",
       "       'Computer Science|Economics',\n",
       "       'Computer Science|Electrical Engineering',\n",
       "       'Computer Science|English', 'Cultural Anthropology',\n",
       "       'Cultural Anthropology|Religion', 'Economics',\n",
       "       'Economics|Mathematics', 'Economics|Spanish', 'English',\n",
       "       'Environmental Science and Policy', 'Environmental Studies',\n",
       "       'Evolutionary Anthropology', 'French Studies', 'Global Health',\n",
       "       'Health Policy Certificate|Public Policy', 'History',\n",
       "       'History|Psychology',\n",
       "       'Indiv Curr: Ethics & Religion in Health Care',\n",
       "       'Interdepartmental English and Religion',\n",
       "       'International Comparative Area Studies',\n",
       "       'International Comparative Studies', 'Linguistics', 'Mathematics',\n",
       "       'Mathematics|No Major', 'Mechanical Engineering',\n",
       "       'Medieval Renaissance History',\n",
       "       'No Major|Biomedical Engineering|Mechanical Engineering|No Major',\n",
       "       'Physics', 'Political Science', 'Pre-Medical|Spanish Studies',\n",
       "       'Program II', 'Program II: Genomics, Race & Global Health Policy',\n",
       "       'Psychology', 'Psychology & Neuroscience',\n",
       "       'Psychology (concentration in Neuroscience)',\n",
       "       'Psychology and Neuroscience',\n",
       "       'Psychology with Neuroscience Certificate',\n",
       "       'Psychology, Concentration in Neuroscience',\n",
       "       'Psychology/Neuroscience', 'Public Policy', 'Public Policy Studies',\n",
       "       'Public Policy Studies concentration Health Policy',\n",
       "       'Public Policy Studies|No Major', 'Religion', 'Sociology',\n",
       "       'Spanish', 'Theater Studies', \"Women's Studies\"], dtype=object)"
      ]
     },
     "execution_count": 11,
     "metadata": {},
     "output_type": "execute_result"
    }
   ],
   "source": [
    "major_categories"
   ]
  },
  {
   "cell_type": "code",
   "execution_count": 12,
   "metadata": {},
   "outputs": [
    {
     "data": {
      "image/png": "[encoded data removed]",
      "text/plain": [
       "<matplotlib.figure.Figure at 0xbed4550>"
      ]
     },
     "metadata": {},
     "output_type": "display_data"
    }
   ],
   "source": [
    "plt.subplots(figsize=(8,8))\n",
    "sns.countplot(x='Answer key',data=processed_train)\n",
    "plt.show()"
   ]
  },
  {
   "cell_type": "code",
   "execution_count": 13,
   "metadata": {},
   "outputs": [
    {
     "data": {
      "text/plain": [
       "<matplotlib.axes._subplots.AxesSubplot at 0xc27a2b0>"
      ]
     },
     "execution_count": 13,
     "metadata": {},
     "output_type": "execute_result"
    },
    {
     "data": {
      "image/png": "[encoded data removed]",
      "text/plain": [
       "<matplotlib.figure.Figure at 0xc26b0f0>"
      ]
     },
     "metadata": {},
     "output_type": "display_data"
    }
   ],
   "source": [
    "table=pd.crosstab(processed_train['Undergrad Major'], processed_train['Answer key'])\n",
    "table.div(table.sum(1).astype(float),axis=0).plot(kind='bar',stacked=True, figsize=(15,8)) "
   ]
  },
  {
   "cell_type": "code",
   "execution_count": 14,
   "metadata": {
    "collapsed": true
   },
   "outputs": [],
   "source": [
    "#Will need to categorize(classify) the majors into a few categories.\n",
    "# Category 1:- Biology, chemistry and psy\n",
    "# Category 2:- All other Majors"
   ]
  },
  {
   "cell_type": "code",
   "execution_count": 15,
   "metadata": {},
   "outputs": [],
   "source": [
    "for i in processed_train.index:\n",
    "    if 'Bio' in processed_train.loc[i,'Undergrad Major'] or 'Chem' in processed_train.loc[i, 'Undergrad Major'] or 'Psy' in processed_train.loc[i, 'Undergrad Major'] or 'Econom' in processed_train.loc[i, 'Undergrad Major']:\n",
    "        processed_train.loc[i,'Undergrad Major Classification'] = 'Major_accepted'\n",
    "    else:\n",
    "        processed_train.loc[i,'Undergrad Major Classification'] = 'Other'"
   ]
  },
  {
   "cell_type": "code",
   "execution_count": 16,
   "metadata": {
    "collapsed": true
   },
   "outputs": [],
   "source": [
    "processed_train=processed_train.drop(['Undergrad Major'],axis=1)"
   ]
  },
  {
   "cell_type": "code",
   "execution_count": 17,
   "metadata": {
    "collapsed": true
   },
   "outputs": [],
   "source": [
    "category_variables=['Undergrad Major Classification']\n",
    "for var in category_variables:\n",
    "    cat_list='var'+'_'+var\n",
    "    cat_list=pd.get_dummies(processed_train[var],prefix=var)\n",
    "    raw_data1=processed_train.join(cat_list)\n",
    "    processed_train=raw_data1"
   ]
  },
  {
   "cell_type": "code",
   "execution_count": 18,
   "metadata": {
    "collapsed": true
   },
   "outputs": [],
   "source": [
    "processed_train=processed_train.drop(['Undergrad Major Classification'],axis=1)"
   ]
  },
  {
   "cell_type": "code",
   "execution_count": 19,
   "metadata": {
    "collapsed": true
   },
   "outputs": [],
   "source": [
    "processed_train_x=pd.DataFrame(processed_train,columns=['CU BCPM GPA','CU AO GPA','CU CUM GPA','VR','PS','WS','BS','Undergrad Major Classification_Major_accepted','Undergrad Major Classification_Other'])\n",
    "processed_train_y=pd.DataFrame(processed_train,columns=['Answer key'])"
   ]
  },
  {
   "cell_type": "code",
   "execution_count": 20,
   "metadata": {
    "collapsed": true
   },
   "outputs": [],
   "source": [
    "lin_reg=linear_model.LinearRegression().fit(processed_train_x, processed_train_y)"
   ]
  },
  {
   "cell_type": "code",
   "execution_count": 21,
   "metadata": {
    "collapsed": true
   },
   "outputs": [],
   "source": [
    "for i in processed_test.index:\n",
    "    if 'Bio' in processed_test.loc[i,'Undergrad Major'] or 'Chem' in processed_test.loc[i, 'Undergrad Major'] or 'Psy' in processed_test.loc[i, 'Undergrad Major'] or 'Econom' in processed_test.loc[i, 'Undergrad Major']:\n",
    "        processed_test.loc[i,'Undergrad Major Classification'] = 'Major_accepted'\n",
    "    else:\n",
    "        processed_test.loc[i,'Undergrad Major Classification'] = 'Other'"
   ]
  },
  {
   "cell_type": "code",
   "execution_count": 22,
   "metadata": {
    "collapsed": true
   },
   "outputs": [],
   "source": [
    "processed_test=processed_test.drop(['Undergrad Major'],axis=1)"
   ]
  },
  {
   "cell_type": "code",
   "execution_count": 23,
   "metadata": {
    "collapsed": true
   },
   "outputs": [],
   "source": [
    "category_variables=['Undergrad Major Classification']\n",
    "for var in category_variables:\n",
    "    cat_list='var'+'_'+var\n",
    "    cat_list=pd.get_dummies(processed_test[var],prefix=var)\n",
    "    raw_data1=processed_test.join(cat_list)\n",
    "    processed_test=raw_data1"
   ]
  },
  {
   "cell_type": "code",
   "execution_count": 24,
   "metadata": {
    "collapsed": true
   },
   "outputs": [],
   "source": [
    "processed_test=processed_test.drop(['Undergrad Major Classification'],axis=1)"
   ]
  },
  {
   "cell_type": "code",
   "execution_count": 25,
   "metadata": {
    "collapsed": true
   },
   "outputs": [],
   "source": [
    "processed_test_x=pd.DataFrame(processed_test,columns=['CU BCPM GPA','CU AO GPA','CU CUM GPA','VR','PS','WS','BS','Undergrad Major Classification_Major_accepted','Undergrad Major Classification_Other'])"
   ]
  },
  {
   "cell_type": "code",
   "execution_count": 26,
   "metadata": {
    "collapsed": true
   },
   "outputs": [],
   "source": [
    "lin_reg_predict=lin_reg.predict(processed_test_x)"
   ]
  },
  {
   "cell_type": "code",
   "execution_count": 27,
   "metadata": {},
   "outputs": [
    {
     "name": "stdout",
     "output_type": "stream",
     "text": [
      "[ 0.17125142]\n",
      "[ 0.24290367]\n",
      "[ 0.18639178]\n",
      "[ 0.05895891]\n",
      "[ 0.03874209]\n",
      "[ 0.07419954]\n",
      "[-0.01019842]\n",
      "[ 0.18122854]\n",
      "[ 0.09965302]\n",
      "[ 0.03215683]\n",
      "[ 0.09155281]\n",
      "[ 0.20572971]\n",
      "[ 0.14748139]\n",
      "[ 0.0346819]\n",
      "[ 0.19318086]\n",
      "[ 0.05153044]\n",
      "[ 0.19881258]\n",
      "[ 0.12252853]\n",
      "[-0.04243452]\n",
      "[ 0.10179441]\n",
      "[ 0.07557059]\n",
      "[ 0.10017228]\n",
      "[ 0.20994414]\n",
      "[ 0.05578519]\n",
      "[ 0.12438004]\n",
      "[ 0.09988914]\n",
      "[ 0.06649216]\n",
      "[ 0.20741798]\n",
      "[ 0.0391715]\n",
      "[ 0.09804771]\n",
      "[-0.01194242]\n",
      "[ 0.18397407]\n",
      "[ 0.13294675]\n",
      "[ 0.18629441]\n",
      "[ 0.14089828]\n",
      "[ 0.04069176]\n",
      "[ 0.10638301]\n",
      "[ 0.20505588]\n",
      "[ 0.04397458]\n",
      "[ 0.21497315]\n",
      "[ 0.16832064]\n",
      "[ 0.13025239]\n",
      "[ 0.05337961]\n",
      "[ 0.18757271]\n",
      "[-0.05505992]\n",
      "[ 0.00802477]\n",
      "[ 0.14235345]\n",
      "[ 0.19828864]\n",
      "[ 0.1609552]\n",
      "[ 0.07220792]\n",
      "[ 0.22760836]\n",
      "[ 0.18133476]\n",
      "[ 0.06925267]\n",
      "[ 0.00443484]\n",
      "[ 0.14749647]\n",
      "[ 0.01719599]\n",
      "[ 0.08299876]\n",
      "[ 0.18906558]\n",
      "[ 0.15661037]\n",
      "[ 0.18470216]\n",
      "[ 0.16929902]\n",
      "[ 0.03767358]\n",
      "[ 0.03526714]\n",
      "[ 0.10120078]\n",
      "[ 0.08978118]\n",
      "[ 0.1666592]\n",
      "[ 0.14918636]\n",
      "[ 0.04392785]\n",
      "[ 0.11565003]\n",
      "[ 0.16830783]\n",
      "[ 0.22097245]\n",
      "[ 0.08096073]\n",
      "[ 0.05493886]\n",
      "[ 0.07341378]\n",
      "[ 0.12410765]\n",
      "[ 0.1672834]\n",
      "[ 0.08481616]\n",
      "[ 0.03666288]\n",
      "[ 0.04745981]\n",
      "[ 0.03148141]\n",
      "[ 0.02158666]\n",
      "[-0.01957174]\n",
      "[ 0.15780189]\n",
      "[ 0.10063829]\n",
      "[-0.00660754]\n",
      "[ 0.07401436]\n",
      "[ 0.12968949]\n",
      "[ 0.04184788]\n",
      "[ 0.01734464]\n",
      "[ 0.06593192]\n",
      "[-0.04007661]\n",
      "[ 0.11052278]\n",
      "[ 0.09099358]\n",
      "[ 0.09231703]\n",
      "[ 0.07733217]\n",
      "[ 0.19879336]\n",
      "[ 0.17822329]\n",
      "[ 0.04742827]\n",
      "[ 0.17933397]\n",
      "[ 0.0627515]\n",
      "[ 0.07769332]\n",
      "[ 0.06607134]\n",
      "[ 0.09208728]\n",
      "[ 0.20766453]\n",
      "[ 0.0760884]\n",
      "[-0.05566497]\n",
      "[ 0.17848244]\n",
      "[ 0.11334017]\n",
      "[ 0.13285625]\n",
      "[ 0.07176425]\n",
      "[ 0.06092476]\n",
      "[ 0.05375433]\n",
      "[ 0.09765413]\n",
      "[ 0.20117321]\n",
      "[ 0.08109725]\n",
      "[ 0.1763489]\n",
      "[ 0.1613303]\n",
      "[ 0.11785636]\n",
      "[-0.03820475]\n",
      "[-0.02636884]\n",
      "[ 0.17061216]\n",
      "[ 0.11129223]\n",
      "[ 0.06033157]\n",
      "[-0.05900124]\n",
      "[ 0.1372257]\n",
      "[ 0.08247897]\n",
      "[ 0.14571223]\n",
      "[ 0.14757118]\n",
      "[ 0.13477566]\n",
      "[ 0.17057771]\n",
      "[ 0.15593391]\n",
      "[ 0.00909678]\n",
      "[ 0.10305101]\n",
      "[ 0.06917296]\n",
      "[ 0.0734673]\n",
      "[ 0.17950693]\n",
      "[ 0.07781735]\n",
      "[ 0.16746282]\n",
      "[-0.0124424]\n",
      "[ 0.21881427]\n",
      "[-0.02416458]\n",
      "[ 0.1123106]\n",
      "[ 0.06313924]\n",
      "[ 0.13258453]\n",
      "[ 0.07613705]\n",
      "[ 0.10421341]\n",
      "[ 0.12183133]\n",
      "[ 0.06702377]\n",
      "[-0.03184538]\n",
      "[ 0.16597989]\n",
      "[ 0.0604886]\n",
      "[ 0.18588498]\n",
      "[ 0.11274044]\n",
      "[ 0.08082717]\n",
      "[ 0.08495096]\n",
      "[ 0.01973006]\n",
      "[ 0.14778059]\n",
      "[ 0.16275344]\n",
      "[ 0.10174108]\n",
      "[-0.0100822]\n",
      "[ 0.17472971]\n",
      "[ 0.0965269]\n",
      "[ 0.16930347]\n",
      "[ 0.19078877]\n",
      "[ 0.09961161]\n",
      "[ 0.19962243]\n",
      "[ 0.08552261]\n",
      "[ 0.18163534]\n",
      "[ 0.21822518]\n",
      "[ 0.13059292]\n",
      "[-0.09788283]\n",
      "[ 0.02743837]\n",
      "[ 0.01449219]\n",
      "[ 0.0758546]\n",
      "[ 0.07580592]\n",
      "[-0.12486689]\n",
      "[-0.02342993]\n",
      "[ 0.15737275]\n",
      "[ 0.18548608]\n",
      "[ 0.01566897]\n",
      "[ 0.14808473]\n",
      "[ 0.13017122]\n",
      "[ 0.1509023]\n",
      "[-0.11098726]\n",
      "[ 0.18445181]\n",
      "[ 0.15332612]\n",
      "[-0.00080253]\n",
      "[ 0.07680937]\n",
      "[ 0.17657902]\n",
      "[ 0.01793703]\n",
      "[-0.00964738]\n"
     ]
    }
   ],
   "source": [
    "for i in range(len(lin_reg_predict)):\n",
    "    print(lin_reg_predict[i])"
   ]
  },
  {
   "cell_type": "code",
   "execution_count": null,
   "metadata": {
    "collapsed": true
   },
   "outputs": [],
   "source": []
  }
 ],
 "metadata": {
  "kernelspec": {
   "display_name": "Python 3",
   "language": "python",
   "name": "python3"
  },
  "language_info": {
   "codemirror_mode": {
    "name": "ipython",
    "version": 3
   },
   "file_extension": ".py",
   "mimetype": "text/x-python",
   "name": "python",
   "nbconvert_exporter": "python",
   "pygments_lexer": "ipython3",
   "version": "3.6.2"
  }
 },
 "nbformat": 4,
 "nbformat_minor": 2
}

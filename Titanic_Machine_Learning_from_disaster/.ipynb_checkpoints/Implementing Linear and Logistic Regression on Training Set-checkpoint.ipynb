{
 "cells": [
  {
   "cell_type": "code",
   "execution_count": 1,
   "metadata": {},
   "outputs": [
    {
     "name": "stderr",
     "output_type": "stream",
     "text": [
      "C:\\Users\\lenovo\\Anaconda3\\lib\\site-packages\\sklearn\\cross_validation.py:41: DeprecationWarning: This module was deprecated in version 0.18 in favor of the model_selection module into which all the refactored classes and functions are moved. Also note that the interface of the new CV iterators are different from that of this module. This module will be removed in 0.20.\n",
      "  \"This module will be removed in 0.20.\", DeprecationWarning)\n"
     ]
    }
   ],
   "source": [
    "import pandas as pd\n",
    "import numpy as np\n",
    "from sklearn import linear_model, metrics\n",
    "from sklearn.cross_validation import train_test_split\n",
    "import matplotlib.pyplot as plotting\n",
    "%matplotlib inline"
   ]
  },
  {
   "cell_type": "code",
   "execution_count": 9,
   "metadata": {
    "collapsed": true
   },
   "outputs": [],
   "source": [
    "raw_data_set = pd.read_csv('train_data.csv')\n",
    "df_x=pd.DataFrame(raw_data_set,columns=['Pclass','Sex','Age','SibSp','Parch','Fare','Port of Entry'])\n",
    "df_y=pd.DataFrame(raw_data_set,columns=['Survived'])\n",
    "x_train,x_test,y_train,y_test = train_test_split(raw_data_set,raw_data_set.Survived,test_size=0.33,random_state=5)\n",
    "lin_reg=linear_model.LinearRegression().fit(x_train,y_train)\n",
    "lin_reg_predict=lin_reg.predict(x_test)\n",
    "log_reg=linear_model.LogisticRegression().fit(x_train,y_train)\n",
    "log_reg_predict=log_reg.predict(x_test)"
   ]
  },
  {
   "cell_type": "code",
   "execution_count": 10,
   "metadata": {},
   "outputs": [
    {
     "name": "stdout",
     "output_type": "stream",
     "text": [
      "[  1.00000000e+00   1.00000000e+00   1.00000000e+00   1.00000000e+00\n",
      "   1.00000000e+00   1.00000000e+00   1.00000000e+00   1.00000000e+00\n",
      "   1.00000000e+00  -2.05394743e-15]\n",
      "[1 0]\n"
     ]
    }
   ],
   "source": [
    "fpr_linear, tpr_linear, threshold_linear = metrics.roc_curve(y_test,lin_reg_predict)\n",
    "auc_lin_reg = metrics.auc(fpr_linear,tpr_linear)\n",
    "print(threshold_linear)\n",
    "fpr_logistic, tpr_logistic,threshold_logistic = metrics.roc_curve(y_test,log_reg_predict)\n",
    "auc_log_reg = metrics.auc(fpr_logistic,tpr_logistic)\n",
    "print(threshold_logistic)"
   ]
  },
  {
   "cell_type": "code",
   "execution_count": 11,
   "metadata": {},
   "outputs": [
    {
     "data": {
      "text/plain": [
       "<matplotlib.text.Text at 0xc8c71d0>"
      ]
     },
     "execution_count": 11,
     "metadata": {},
     "output_type": "execute_result"
    },
    {
     "data": {
      "image/png": "[encoded data removed]",
      "text/plain": [
       "<matplotlib.figure.Figure at 0xd0f99b0>"
      ]
     },
     "metadata": {},
     "output_type": "display_data"
    },
    {
     "data": {
      "image/png": "[encoded data removed]",
      "text/plain": [
       "<matplotlib.figure.Figure at 0xc8526a0>"
      ]
     },
     "metadata": {},
     "output_type": "display_data"
    }
   ],
   "source": [
    "plotting.figure()\n",
    "plotting.plot(fpr_linear,tpr_linear,label=\"ROC curve for the linear model\")\n",
    "plotting.xlabel(\"True positive rate\")\n",
    "plotting.ylabel(\"False positive rate\")\n",
    "plotting.title(\"ROC for Linear with AUC of %0.3f\" %auc_lin_reg)\n",
    "plotting.figure()\n",
    "plotting.plot(fpr_logistic,tpr_logistic,label=\"ROC curve for the logistic model\")\n",
    "plotting.xlabel(\"True positive rate\")\n",
    "plotting.ylabel(\"False positive rate\")\n",
    "plotting.title(\"ROC for Logistic with AUC of %0.3f\" %auc_log_reg)"
   ]
  },
  {
   "cell_type": "code",
   "execution_count": null,
   "metadata": {
    "collapsed": true
   },
   "outputs": [],
   "source": []
  }
 ],
 "metadata": {
  "kernelspec": {
   "display_name": "Python 3",
   "language": "python",
   "name": "python3"
  },
  "language_info": {
   "codemirror_mode": {
    "name": "ipython",
    "version": 3
   },
   "file_extension": ".py",
   "mimetype": "text/x-python",
   "name": "python",
   "nbconvert_exporter": "python",
   "pygments_lexer": "ipython3",
   "version": "3.6.2"
  }
 },
 "nbformat": 4,
 "nbformat_minor": 2
}
